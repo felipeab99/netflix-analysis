{
  "nbformat": 4,
  "nbformat_minor": 0,
  "metadata": {
    "colab": {
      "provenance": []
    },
    "kernelspec": {
      "name": "python3",
      "display_name": "Python 3"
    },
    "language_info": {
      "name": "python"
    }
  },
  "cells": [
    {
      "cell_type": "code",
      "source": [
        "# 1. Instalar bibliotecas\n",
        "!pip install --upgrade google-cloud-bigquery pandas-gbq pyarrow\n",
        "\n",
        "# 2. Autenticar no Google Cloud\n",
        "from google.colab import auth\n",
        "auth.authenticate_user()\n",
        "\n",
        "import pandas as pd\n",
        "import re"
      ],
      "metadata": {
        "colab": {
          "base_uri": "https://localhost:8080/"
        },
        "id": "f279OGBG_wcg",
        "outputId": "c828536f-02d7-49db-884b-66fdd3e9f316"
      },
      "execution_count": null,
      "outputs": [
        {
          "output_type": "stream",
          "name": "stdout",
          "text": [
            "Requirement already satisfied: google-cloud-bigquery in /usr/local/lib/python3.12/dist-packages (3.38.0)\n",
            "Requirement already satisfied: pandas-gbq in /usr/local/lib/python3.12/dist-packages (0.29.2)\n",
            "Requirement already satisfied: pyarrow in /usr/local/lib/python3.12/dist-packages (21.0.0)\n",
            "Requirement already satisfied: google-api-core<3.0.0,>=2.11.1 in /usr/local/lib/python3.12/dist-packages (from google-api-core[grpc]<3.0.0,>=2.11.1->google-cloud-bigquery) (2.25.1)\n",
            "Requirement already satisfied: google-auth<3.0.0,>=2.14.1 in /usr/local/lib/python3.12/dist-packages (from google-cloud-bigquery) (2.38.0)\n",
            "Requirement already satisfied: google-cloud-core<3.0.0,>=2.4.1 in /usr/local/lib/python3.12/dist-packages (from google-cloud-bigquery) (2.4.3)\n",
            "Requirement already satisfied: google-resumable-media<3.0.0,>=2.0.0 in /usr/local/lib/python3.12/dist-packages (from google-cloud-bigquery) (2.7.2)\n",
            "Requirement already satisfied: packaging>=24.2.0 in /usr/local/lib/python3.12/dist-packages (from google-cloud-bigquery) (25.0)\n",
            "Requirement already satisfied: python-dateutil<3.0.0,>=2.8.2 in /usr/local/lib/python3.12/dist-packages (from google-cloud-bigquery) (2.9.0.post0)\n",
            "Requirement already satisfied: requests<3.0.0,>=2.21.0 in /usr/local/lib/python3.12/dist-packages (from google-cloud-bigquery) (2.32.4)\n",
            "Requirement already satisfied: setuptools in /usr/local/lib/python3.12/dist-packages (from pandas-gbq) (75.2.0)\n",
            "Requirement already satisfied: db-dtypes<2.0.0,>=1.0.4 in /usr/local/lib/python3.12/dist-packages (from pandas-gbq) (1.4.3)\n",
            "Requirement already satisfied: numpy>=1.18.1 in /usr/local/lib/python3.12/dist-packages (from pandas-gbq) (2.0.2)\n",
            "Requirement already satisfied: pandas>=1.1.4 in /usr/local/lib/python3.12/dist-packages (from pandas-gbq) (2.2.2)\n",
            "Requirement already satisfied: pydata-google-auth>=1.5.0 in /usr/local/lib/python3.12/dist-packages (from pandas-gbq) (1.9.1)\n",
            "Requirement already satisfied: google-auth-oauthlib>=0.7.0 in /usr/local/lib/python3.12/dist-packages (from pandas-gbq) (1.2.2)\n",
            "Requirement already satisfied: googleapis-common-protos<2.0.0,>=1.56.2 in /usr/local/lib/python3.12/dist-packages (from google-api-core<3.0.0,>=2.11.1->google-api-core[grpc]<3.0.0,>=2.11.1->google-cloud-bigquery) (1.70.0)\n",
            "Requirement already satisfied: protobuf!=3.20.0,!=3.20.1,!=4.21.0,!=4.21.1,!=4.21.2,!=4.21.3,!=4.21.4,!=4.21.5,<7.0.0,>=3.19.5 in /usr/local/lib/python3.12/dist-packages (from google-api-core<3.0.0,>=2.11.1->google-api-core[grpc]<3.0.0,>=2.11.1->google-cloud-bigquery) (5.29.5)\n",
            "Requirement already satisfied: proto-plus<2.0.0,>=1.22.3 in /usr/local/lib/python3.12/dist-packages (from google-api-core<3.0.0,>=2.11.1->google-api-core[grpc]<3.0.0,>=2.11.1->google-cloud-bigquery) (1.26.1)\n",
            "Requirement already satisfied: grpcio<2.0.0,>=1.33.2 in /usr/local/lib/python3.12/dist-packages (from google-api-core[grpc]<3.0.0,>=2.11.1->google-cloud-bigquery) (1.75.0)\n",
            "Requirement already satisfied: grpcio-status<2.0.0,>=1.33.2 in /usr/local/lib/python3.12/dist-packages (from google-api-core[grpc]<3.0.0,>=2.11.1->google-cloud-bigquery) (1.71.2)\n",
            "Requirement already satisfied: cachetools<6.0,>=2.0.0 in /usr/local/lib/python3.12/dist-packages (from google-auth<3.0.0,>=2.14.1->google-cloud-bigquery) (5.5.2)\n",
            "Requirement already satisfied: pyasn1-modules>=0.2.1 in /usr/local/lib/python3.12/dist-packages (from google-auth<3.0.0,>=2.14.1->google-cloud-bigquery) (0.4.2)\n",
            "Requirement already satisfied: rsa<5,>=3.1.4 in /usr/local/lib/python3.12/dist-packages (from google-auth<3.0.0,>=2.14.1->google-cloud-bigquery) (4.9.1)\n",
            "Requirement already satisfied: requests-oauthlib>=0.7.0 in /usr/local/lib/python3.12/dist-packages (from google-auth-oauthlib>=0.7.0->pandas-gbq) (2.0.0)\n",
            "Requirement already satisfied: google-crc32c<2.0dev,>=1.0 in /usr/local/lib/python3.12/dist-packages (from google-resumable-media<3.0.0,>=2.0.0->google-cloud-bigquery) (1.7.1)\n",
            "Requirement already satisfied: pytz>=2020.1 in /usr/local/lib/python3.12/dist-packages (from pandas>=1.1.4->pandas-gbq) (2025.2)\n",
            "Requirement already satisfied: tzdata>=2022.7 in /usr/local/lib/python3.12/dist-packages (from pandas>=1.1.4->pandas-gbq) (2025.2)\n",
            "Requirement already satisfied: six>=1.5 in /usr/local/lib/python3.12/dist-packages (from python-dateutil<3.0.0,>=2.8.2->google-cloud-bigquery) (1.17.0)\n",
            "Requirement already satisfied: charset_normalizer<4,>=2 in /usr/local/lib/python3.12/dist-packages (from requests<3.0.0,>=2.21.0->google-cloud-bigquery) (3.4.3)\n",
            "Requirement already satisfied: idna<4,>=2.5 in /usr/local/lib/python3.12/dist-packages (from requests<3.0.0,>=2.21.0->google-cloud-bigquery) (3.10)\n",
            "Requirement already satisfied: urllib3<3,>=1.21.1 in /usr/local/lib/python3.12/dist-packages (from requests<3.0.0,>=2.21.0->google-cloud-bigquery) (2.5.0)\n",
            "Requirement already satisfied: certifi>=2017.4.17 in /usr/local/lib/python3.12/dist-packages (from requests<3.0.0,>=2.21.0->google-cloud-bigquery) (2025.8.3)\n",
            "Requirement already satisfied: typing-extensions~=4.12 in /usr/local/lib/python3.12/dist-packages (from grpcio<2.0.0,>=1.33.2->google-api-core[grpc]<3.0.0,>=2.11.1->google-cloud-bigquery) (4.15.0)\n",
            "Requirement already satisfied: pyasn1<0.7.0,>=0.6.1 in /usr/local/lib/python3.12/dist-packages (from pyasn1-modules>=0.2.1->google-auth<3.0.0,>=2.14.1->google-cloud-bigquery) (0.6.1)\n",
            "Requirement already satisfied: oauthlib>=3.0.0 in /usr/local/lib/python3.12/dist-packages (from requests-oauthlib>=0.7.0->google-auth-oauthlib>=0.7.0->pandas-gbq) (3.3.1)\n"
          ]
        }
      ]
    },
    {
      "cell_type": "code",
      "execution_count": null,
      "metadata": {
        "colab": {
          "base_uri": "https://localhost:8080/"
        },
        "id": "8ORj2uaR6vQ1",
        "outputId": "87896ef5-0170-490e-f766-9b08945aec8b"
      },
      "outputs": [
        {
          "output_type": "stream",
          "name": "stdout",
          "text": [
            "Arquivos tratados salvos com sucesso!\n"
          ]
        }
      ],
      "source": [
        "\n",
        "\n",
        "# Ler dataset (já precisa estar no /content/ depois do upload)\n",
        "df = pd.read_csv(\"/content/netflix_titles.csv\")\n",
        "\n",
        "# Função simples para padronizar nomes de colunas\n",
        "def snake_case(text):\n",
        "    text = text.strip().lower()\n",
        "    text = re.sub(r\"[^\\w\\s]\", \"\", text)\n",
        "    return re.sub(r\"\\s+\", \"_\", text)\n",
        "\n",
        "df.columns = [snake_case(col) for col in df.columns]\n",
        "\n",
        "# Converter coluna de datas\n",
        "df[\"date_added\"] = pd.to_datetime(df[\"date_added\"], errors=\"coerce\")\n",
        "\n",
        "# Separar duration em valor e unidade\n",
        "def split_duration(x):\n",
        "    if pd.isna(x):\n",
        "        return None, None\n",
        "    match = re.match(r\"^(\\d+)\\s*([A-Za-z]+)\", str(x))\n",
        "    if match:\n",
        "        return int(match.group(1)), match.group(2).lower()\n",
        "    return None, None\n",
        "\n",
        "df[[\"duration_value\", \"duration_unit\"]] = df[\"duration\"].apply(lambda x: pd.Series(split_duration(x)))\n",
        "\n",
        "# Ajuste de valores nulos e textos\n",
        "df[\"country\"] = df[\"country\"].fillna(\"unknown\")\n",
        "df[\"rating\"] = df[\"rating\"].fillna(\"not_rated\")\n",
        "\n",
        "for col in [\"type\", \"title\", \"director\", \"cast\", \"country\", \"listed_in\", \"description\", \"rating\"]:\n",
        "    df[col] = df[col].astype(str).str.strip().str.lower().replace(\"nan\", None)\n",
        "\n",
        "# Tabela base (sem duplicados)\n",
        "titles_clean = df[\n",
        "    [\"show_id\",\"type\",\"title\",\"director\",\"cast\",\"country\",\"date_added\",\n",
        "     \"release_year\",\"rating\",\"duration\",\"duration_value\",\"duration_unit\",\n",
        "     \"listed_in\",\"description\"]\n",
        "].drop_duplicates()\n",
        "\n",
        "# Explode países\n",
        "countries = []\n",
        "for _, row in titles_clean.iterrows():\n",
        "    for c in str(row[\"country\"]).split(\",\"):\n",
        "        if c.strip():\n",
        "            countries.append({\"show_id\": row[\"show_id\"], \"country\": c.strip()})\n",
        "titles_by_country = pd.DataFrame(countries)\n",
        "\n",
        "# Explode gêneros\n",
        "genres = []\n",
        "for _, row in titles_clean.iterrows():\n",
        "    for g in str(row[\"listed_in\"]).split(\",\"):\n",
        "        if g.strip():\n",
        "            genres.append({\"show_id\": row[\"show_id\"], \"genre\": g.strip()})\n",
        "titles_by_genre = pd.DataFrame(genres)\n",
        "\n",
        "# Explode elenco\n",
        "cast_rows = []\n",
        "for _, row in titles_clean.iterrows():\n",
        "    for a in str(row[\"cast\"]).split(\",\"):\n",
        "        if a.strip():\n",
        "            cast_rows.append({\"show_id\": row[\"show_id\"], \"actor\": a.strip()})\n",
        "titles_by_cast = pd.DataFrame(cast_rows)\n",
        "\n",
        "# Exportar resultados\n",
        "titles_clean.to_csv(\"/content/titles_clean.csv\", index=False)\n",
        "titles_by_country.to_csv(\"/content/titles_by_country.csv\", index=False)\n",
        "titles_by_genre.to_csv(\"/content/titles_by_genre.csv\", index=False)\n",
        "titles_by_cast.to_csv(\"/content/titles_by_cast.csv\", index=False)\n",
        "\n",
        "\n",
        "print(\"Arquivos tratados salvos com sucesso!\")\n"
      ]
    },
    {
      "cell_type": "code",
      "source": [
        "from pandas_gbq import to_gbq\n",
        "\n",
        "PROJECT_ID = \"analise-netflix\"\n",
        "\n",
        "# Tabelas para BigQuery\n",
        "to_gbq(titles_clean, \"netflix.titles_clean\", project_id=PROJECT_ID, if_exists=\"replace\")\n",
        "to_gbq(titles_by_country, \"netflix.titles_by_country\", project_id=PROJECT_ID, if_exists=\"replace\")\n",
        "to_gbq(titles_by_genre, \"netflix.titles_by_genre\", project_id=PROJECT_ID, if_exists=\"replace\")\n",
        "to_gbq(titles_by_cast, \"netflix.titles_by_cast\", project_id=PROJECT_ID, if_exists=\"replace\")\n",
        "\n",
        "print(\"Tabelas enviadas para o BigQuery com sucesso!\")\n"
      ],
      "metadata": {
        "colab": {
          "base_uri": "https://localhost:8080/"
        },
        "id": "F6UvvZw1BA_k",
        "outputId": "eff6c1b4-cbd6-4977-9491-94a5d5c777a1"
      },
      "execution_count": null,
      "outputs": [
        {
          "output_type": "stream",
          "name": "stderr",
          "text": [
            "100%|██████████| 1/1 [00:00<00:00, 8648.05it/s]\n",
            "100%|██████████| 1/1 [00:00<00:00, 738.04it/s]\n",
            "100%|██████████| 1/1 [00:00<00:00, 10381.94it/s]\n",
            "100%|██████████| 1/1 [00:00<00:00, 7681.88it/s]"
          ]
        },
        {
          "output_type": "stream",
          "name": "stdout",
          "text": [
            "Tabelas enviadas para o BigQuery com sucesso!\n"
          ]
        },
        {
          "output_type": "stream",
          "name": "stderr",
          "text": [
            "\n"
          ]
        }
      ]
    }
  ]
}